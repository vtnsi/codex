{
 "cells": [
  {
   "cell_type": "markdown",
   "metadata": {},
   "source": [
    "## Requirements and Dependencies\n",
    "\n",
    "Install dependencies and ensure that Python version >= 3.10."
   ]
  },
  {
   "cell_type": "code",
   "execution_count": 2,
   "metadata": {},
   "outputs": [
    {
     "name": "stdout",
     "output_type": "stream",
     "text": [
      "Defaulting to user installation because normal site-packages is not writeable\n",
      "\u001b[31mERROR: Could not find a version that satisfies the requirement requirements (from versions: none)\u001b[0m\u001b[31m\n",
      "\u001b[0m\u001b[31mERROR: No matching distribution found for requirements\u001b[0m\u001b[31m\n",
      "\u001b[0mNote: you may need to restart the kernel to use updated packages.\n"
     ]
    }
   ],
   "source": [
    "%pip install requirements"
   ]
  },
  {
   "cell_type": "code",
   "execution_count": 3,
   "metadata": {},
   "outputs": [],
   "source": [
    "import os\n",
    "import sys\n",
    "import pandas as pd\n",
    "import json\n",
    "\n",
    "sys.path.append(\"../\")\n",
    "import codex\n",
    "\n",
    "with open(os.path.join(\"tutorial_materials/input/demo_input-dataset_eval.json\")) as f:\n",
    "    codex_input = json.load(f)"
   ]
  },
  {
   "cell_type": "markdown",
   "metadata": {},
   "source": [
    "## 1) Tabular Dataset\n",
    "CODEX computes combinatorial coverage metrics over specified features of a tabular dataset, that is, a dataset organized into a table of rows and columns.\n",
    "\n",
    "In the case that the input data of a machine learning dataset is not tabular, tabular metadata or tabular data of the original data's dervied features of latent space can act as a surrocate for the input data. In this case, how meaningful the CODEX experiments are depends on how meaningful data is of the application. **REVISE. These can include ingrained features, or envirionmental conditions of a sample.\n",
    "\n",
    "The provided dataset columns should be comprised of: \n",
    "- One column for sample ID's, a unique identifier given to each sample prior to running CODEX.\n",
    "- Multiple columns as features (or meta features), or variables (or meta variables) in the data. \n",
    "    - Value assignment: The value present in a column is the value that the specific sample has for the feature value.\n",
    "- At least one column for labels, or classes of samples."
   ]
  },
  {
   "cell_type": "markdown",
   "metadata": {},
   "source": [
    "Consider this example abstract dataset containing feature columns \"A\", \"B\", \"C\", \"D\" as well as a unique sample ID column and label column(s). Multiple strengths can be provided in one input file to obtain a set of CC_t outputs. "
   ]
  },
  {
   "cell_type": "code",
   "execution_count": 4,
   "metadata": {},
   "outputs": [
    {
     "data": {
      "text/html": [
       "<div>\n",
       "<style scoped>\n",
       "    .dataframe tbody tr th:only-of-type {\n",
       "        vertical-align: middle;\n",
       "    }\n",
       "\n",
       "    .dataframe tbody tr th {\n",
       "        vertical-align: top;\n",
       "    }\n",
       "\n",
       "    .dataframe thead th {\n",
       "        text-align: right;\n",
       "    }\n",
       "</style>\n",
       "<table border=\"1\" class=\"dataframe\">\n",
       "  <thead>\n",
       "    <tr style=\"text-align: right;\">\n",
       "      <th></th>\n",
       "      <th>id</th>\n",
       "      <th>A</th>\n",
       "      <th>B</th>\n",
       "      <th>C</th>\n",
       "      <th>D</th>\n",
       "      <th>lab</th>\n",
       "    </tr>\n",
       "  </thead>\n",
       "  <tbody>\n",
       "    <tr>\n",
       "      <th>0</th>\n",
       "      <td>0</td>\n",
       "      <td>a2</td>\n",
       "      <td>12.561</td>\n",
       "      <td>c1</td>\n",
       "      <td>d2</td>\n",
       "      <td>l1</td>\n",
       "    </tr>\n",
       "    <tr>\n",
       "      <th>1</th>\n",
       "      <td>1</td>\n",
       "      <td>a1</td>\n",
       "      <td>4.238</td>\n",
       "      <td>c2</td>\n",
       "      <td>d3</td>\n",
       "      <td>l1</td>\n",
       "    </tr>\n",
       "    <tr>\n",
       "      <th>2</th>\n",
       "      <td>2</td>\n",
       "      <td>a1</td>\n",
       "      <td>9.700</td>\n",
       "      <td>c2</td>\n",
       "      <td>d2</td>\n",
       "      <td>l1</td>\n",
       "    </tr>\n",
       "    <tr>\n",
       "      <th>3</th>\n",
       "      <td>3</td>\n",
       "      <td>a1</td>\n",
       "      <td>17.740</td>\n",
       "      <td>c2</td>\n",
       "      <td>d4</td>\n",
       "      <td>l2</td>\n",
       "    </tr>\n",
       "    <tr>\n",
       "      <th>4</th>\n",
       "      <td>4</td>\n",
       "      <td>a2</td>\n",
       "      <td>22.950</td>\n",
       "      <td>c1</td>\n",
       "      <td>d2</td>\n",
       "      <td>l3</td>\n",
       "    </tr>\n",
       "    <tr>\n",
       "      <th>...</th>\n",
       "      <td>...</td>\n",
       "      <td>...</td>\n",
       "      <td>...</td>\n",
       "      <td>...</td>\n",
       "      <td>...</td>\n",
       "      <td>...</td>\n",
       "    </tr>\n",
       "    <tr>\n",
       "      <th>995</th>\n",
       "      <td>995</td>\n",
       "      <td>a1</td>\n",
       "      <td>7.249</td>\n",
       "      <td>c3</td>\n",
       "      <td>d2</td>\n",
       "      <td>l1</td>\n",
       "    </tr>\n",
       "    <tr>\n",
       "      <th>996</th>\n",
       "      <td>996</td>\n",
       "      <td>a2</td>\n",
       "      <td>23.911</td>\n",
       "      <td>c3</td>\n",
       "      <td>d3</td>\n",
       "      <td>l3</td>\n",
       "    </tr>\n",
       "    <tr>\n",
       "      <th>997</th>\n",
       "      <td>997</td>\n",
       "      <td>a2</td>\n",
       "      <td>0.619</td>\n",
       "      <td>c1</td>\n",
       "      <td>d3</td>\n",
       "      <td>l2</td>\n",
       "    </tr>\n",
       "    <tr>\n",
       "      <th>998</th>\n",
       "      <td>998</td>\n",
       "      <td>a1</td>\n",
       "      <td>13.062</td>\n",
       "      <td>c2</td>\n",
       "      <td>d1</td>\n",
       "      <td>l1</td>\n",
       "    </tr>\n",
       "    <tr>\n",
       "      <th>999</th>\n",
       "      <td>999</td>\n",
       "      <td>a2</td>\n",
       "      <td>25.870</td>\n",
       "      <td>c2</td>\n",
       "      <td>d4</td>\n",
       "      <td>l2</td>\n",
       "    </tr>\n",
       "  </tbody>\n",
       "</table>\n",
       "<p>1000 rows × 6 columns</p>\n",
       "</div>"
      ],
      "text/plain": [
       "      id   A       B   C   D lab\n",
       "0      0  a2  12.561  c1  d2  l1\n",
       "1      1  a1   4.238  c2  d3  l1\n",
       "2      2  a1   9.700  c2  d2  l1\n",
       "3      3  a1  17.740  c2  d4  l2\n",
       "4      4  a2  22.950  c1  d2  l3\n",
       "..   ...  ..     ...  ..  ..  ..\n",
       "995  995  a1   7.249  c3  d2  l1\n",
       "996  996  a2  23.911  c3  d3  l3\n",
       "997  997  a2   0.619  c1  d3  l2\n",
       "998  998  a1  13.062  c2  d1  l1\n",
       "999  999  a2  25.870  c2  d4  l2\n",
       "\n",
       "[1000 rows x 6 columns]"
      ]
     },
     "metadata": {},
     "output_type": "display_data"
    }
   ],
   "source": [
    "dataset = pd.read_csv(\"tutorial_materials/datasets_tabular/abstract_native.csv\").drop(\n",
    "    \"Unnamed: 0\", axis=1\n",
    ")\n",
    "display(dataset)"
   ]
  },
  {
   "cell_type": "code",
   "execution_count": 5,
   "metadata": {},
   "outputs": [
    {
     "data": {
      "text/plain": [
       "'SAMPLE ID COLUMN'"
      ]
     },
     "metadata": {},
     "output_type": "display_data"
    },
    {
     "data": {
      "text/plain": [
       "pandas.core.series.Series"
      ]
     },
     "metadata": {},
     "output_type": "display_data"
    },
    {
     "data": {
      "text/plain": [
       "0        0\n",
       "1        1\n",
       "2        2\n",
       "3        3\n",
       "4        4\n",
       "      ... \n",
       "995    995\n",
       "996    996\n",
       "997    997\n",
       "998    998\n",
       "999    999\n",
       "Name: id, Length: 1000, dtype: int64"
      ]
     },
     "metadata": {},
     "output_type": "display_data"
    },
    {
     "data": {
      "text/plain": [
       "'LABEL COLUMN'"
      ]
     },
     "metadata": {},
     "output_type": "display_data"
    },
    {
     "data": {
      "text/plain": [
       "pandas.core.series.Series"
      ]
     },
     "metadata": {},
     "output_type": "display_data"
    },
    {
     "data": {
      "text/plain": [
       "0      l1\n",
       "1      l1\n",
       "2      l1\n",
       "3      l2\n",
       "4      l3\n",
       "       ..\n",
       "995    l1\n",
       "996    l3\n",
       "997    l2\n",
       "998    l1\n",
       "999    l2\n",
       "Name: lab, Length: 1000, dtype: object"
      ]
     },
     "metadata": {},
     "output_type": "display_data"
    }
   ],
   "source": [
    "id_col_name = codex_input[\"sample_id_column\"]\n",
    "label_col_name = \"lab\"  # codex_input['label_column']\n",
    "\n",
    "display(\n",
    "    \"SAMPLE ID COLUMN\",\n",
    "    type(dataset[id_col_name]),\n",
    "    dataset[id_col_name],\n",
    ")\n",
    "display(\"LABEL COLUMN\", type(dataset[label_col_name]), dataset[label_col_name])"
   ]
  },
  {
   "cell_type": "code",
   "execution_count": 6,
   "metadata": {},
   "outputs": [
    {
     "data": {
      "text/plain": [
       "'FEATURES IN DATASET'"
      ]
     },
     "metadata": {},
     "output_type": "display_data"
    },
    {
     "data": {
      "text/html": [
       "<div>\n",
       "<style scoped>\n",
       "    .dataframe tbody tr th:only-of-type {\n",
       "        vertical-align: middle;\n",
       "    }\n",
       "\n",
       "    .dataframe tbody tr th {\n",
       "        vertical-align: top;\n",
       "    }\n",
       "\n",
       "    .dataframe thead th {\n",
       "        text-align: right;\n",
       "    }\n",
       "</style>\n",
       "<table border=\"1\" class=\"dataframe\">\n",
       "  <thead>\n",
       "    <tr style=\"text-align: right;\">\n",
       "      <th></th>\n",
       "      <th>A</th>\n",
       "      <th>B</th>\n",
       "      <th>C</th>\n",
       "      <th>D</th>\n",
       "    </tr>\n",
       "  </thead>\n",
       "  <tbody>\n",
       "    <tr>\n",
       "      <th>0</th>\n",
       "      <td>a2</td>\n",
       "      <td>12.561</td>\n",
       "      <td>c1</td>\n",
       "      <td>d2</td>\n",
       "    </tr>\n",
       "    <tr>\n",
       "      <th>1</th>\n",
       "      <td>a1</td>\n",
       "      <td>4.238</td>\n",
       "      <td>c2</td>\n",
       "      <td>d3</td>\n",
       "    </tr>\n",
       "    <tr>\n",
       "      <th>2</th>\n",
       "      <td>a1</td>\n",
       "      <td>9.700</td>\n",
       "      <td>c2</td>\n",
       "      <td>d2</td>\n",
       "    </tr>\n",
       "    <tr>\n",
       "      <th>3</th>\n",
       "      <td>a1</td>\n",
       "      <td>17.740</td>\n",
       "      <td>c2</td>\n",
       "      <td>d4</td>\n",
       "    </tr>\n",
       "    <tr>\n",
       "      <th>4</th>\n",
       "      <td>a2</td>\n",
       "      <td>22.950</td>\n",
       "      <td>c1</td>\n",
       "      <td>d2</td>\n",
       "    </tr>\n",
       "  </tbody>\n",
       "</table>\n",
       "</div>"
      ],
      "text/plain": [
       "    A       B   C   D\n",
       "0  a2  12.561  c1  d2\n",
       "1  a1   4.238  c2  d3\n",
       "2  a1   9.700  c2  d2\n",
       "3  a1  17.740  c2  d4\n",
       "4  a2  22.950  c1  d2"
      ]
     },
     "metadata": {},
     "output_type": "display_data"
    },
    {
     "data": {
      "text/plain": [
       "'VALUES OF FEATURES'"
      ]
     },
     "metadata": {},
     "output_type": "display_data"
    },
    {
     "name": "stdout",
     "output_type": "stream",
     "text": [
      "Values for A in dataset: ['a2', 'a1']\n",
      "Values for B in dataset: [12.561, 4.238, 9.7, 17.74, 22.95, 17.404, 27.431, 6.718, 19.498, 26.667, 16.187, 16.269, 14.63, 12.354, 16.6, 9.876, 22.227, 11.985, 11.981, 8.381, 18.247, 2.475, 25.809, 15.765, 20.458, 12.083, 19.587, 5.127, 13.993, 24.23, 18.73, 11.884, 15.701, 15.253, 26.584, 5.635, 24.941, 18.649, 17.615, 29.179, 8.387, 15.212, 0.043, 26.122, 0.907, 3.262, 2.291, 11.421, 19.15, 13.21, 18.217, 5.567, 29.053, 13.746, 10.951, 14.206, 24.663, 21.543, 20.781, 20.606, 25.689, 9.734, 26.231, 0.795, 11.391, 10.737, 27.153, 5.164, 12.411, 6.071, 12.483, 8.001, 7.805, 16.19, 23.314, 8.191, 28.216, 25.55, 29.863, 23.061, 17.949, 2.266, 2.992, 14.384, 18.336, 28.091, 6.775, 20.095, 6.211, 15.397, 19.45, 0.39, 18.621, 14.124, 14.182, 19.952, 24.088, 26.087, 17.343, 28.003, 2.346, 26.498, 24.411, 3.071, 7.851, 1.837, 28.637, 1.933, 9.886, 21.683, 27.565, 10.992, 18.253, 7.137, 7.88, 2.025, 9.184, 12.28, 29.148, 24.533, 9.096, 13.294, 26.024, 3.469, 27.881, 12.112, 10.263, 7.232, 27.436, 3.657, 13.311, 21.485, 18.678, 9.743, 6.78, 16.667, 10.693, 13.002, 15.599, 18.679, 16.302, 1.754, 15.718, 14.235, 9.843, 24.469, 25.138, 8.593, 19.579, 22.086, 9.828, 16.807, 7.336, 0.202, 16.87, 1.632, 24.022, 4.136, 16.68, 9.24, 11.745, 8.746, 6.859, 3.913, 17.47, 22.833, 4.81, 13.172, 11.522, 6.655, 27.279, 17.829, 18.596, 28.807, 3.294, 2.323, 25.734, 0.097, 14.828, 11.489, 25.817, 19.809, 15.252, 10.301, 3.096, 28.602, 15.191, 23.884, 27.128, 2.722, 5.082, 28.646, 12.71, 14.465, 9.339, 11.031, 1.151, 6.905, 20.931, 18.385, 25.273, 19.313, 4.459, 15.85, 26.67, 8.371, 0.094, 0.33, 12.532, 19.65, 18.128, 4.636, 1.963, 5.831, 27.765, 4.792, 1.923, 24.401, 12.8, 7.059, 2.852, 4.191, 29.538, 19.916, 0.102, 24.204, 4.769, 6.651, 11.932, 0.85, 4.07, 29.041, 21.905, 17.968, 17.509, 29.161, 9.294, 15.133, 16.138, 15.482, 6.425, 5.535, 27.066, 16.586, 22.22, 2.679, 1.273, 17.067, 2.54, 17.627, 7.73, 5.911, 12.034, 24.952, 25.913, 10.064, 27.374, 12.788, 23.003, 4.735, 4.182, 18.241, 24.092, 4.646, 5.022, 18.67, 23.936, 11.328, 5.725, 13.011, 24.999, 23.75, 21.611, 13.77, 21.272, 8.817, 19.151, 15.278, 3.047, 14.248, 2.966, 7.302, 28.883, 27.574, 23.372, 28.743, 28.496, 20.819, 28.354, 13.688, 12.275, 5.259, 12.806, 0.691, 17.44, 1.777, 7.609, 28.031, 26.981, 18.243, 20.641, 7.724, 18.1, 23.857, 16.82, 9.768, 28.74, 14.876, 26.192, 7.456, 15.508, 6.48, 21.719, 17.037, 14.757, 13.357, 27.337, 26.537, 27.758, 6.534, 19.747, 15.138, 16.735, 18.445, 4.578, 21.653, 26.4, 3.658, 20.978, 8.792, 27.225, 5.766, 22.673, 19.827, 3.6, 11.208, 12.178, 28.933, 21.716, 17.047, 15.048, 7.318, 5.596, 2.18, 16.024, 29.433, 21.595, 4.466, 22.649, 26.696, 14.316, 16.776, 28.476, 11.279, 16.339, 14.79, 20.005, 7.541, 12.49, 2.472, 24.168, 9.278, 29.512, 28.556, 5.659, 2.721, 26.335, 1.557, 14.369, 7.888, 1.505, 14.86, 5.243, 22.655, 25.34, 22.221, 6.498, 27.204, 17.918, 16.656, 8.751, 20.539, 5.199, 28.912, 5.088, 1.016, 24.249, 28.491, 4.365, 26.937, 9.218, 11.705, 29.58, 18.435, 8.84, 24.505, 18.452, 29.99, 15.633, 21.778, 12.924, 24.025, 14.584, 27.405, 7.898, 22.423, 21.247, 20.402, 21.043, 5.707, 14.152, 25.753, 1.647, 21.865, 28.45, 18.587, 9.731, 15.796, 24.599, 6.633, 21.536, 1.358, 13.342, 7.583, 0.345, 12.911, 16.74, 22.303, 16.163, 21.811, 9.566, 24.34, 28.747, 9.975, 11.395, 3.226, 24.169, 3.856, 28.364, 11.604, 2.558, 15.236, 13.806, 11.415, 27.109, 6.159, 20.755, 12.624, 21.833, 5.929, 3.909, 2.681, 0.98, 5.769, 3.374, 6.532, 23.255, 18.2, 12.545, 7.266, 2.028, 24.786, 5.245, 2.405, 19.294, 27.601, 2.289, 3.281, 22.85, 20.188, 7.311, 3.022, 11.351, 13.934, 14.518, 22.367, 10.273, 15.625, 17.959, 8.114, 6.452, 19.552, 4.267, 14.413, 1.877, 22.379, 7.442, 2.327, 15.36, 22.271, 17.081, 29.858, 5.982, 0.72, 15.04, 29.93, 14.381, 12.121, 16.006, 29.368, 6.765, 24.636, 2.06, 20.914, 24.649, 15.578, 15.049, 18.855, 7.521, 14.526, 9.852, 1.472, 11.158, 12.554, 21.458, 2.057, 12.614, 23.037, 25.238, 22.095, 17.406, 1.235, 11.723, 10.128, 19.343, 28.661, 25.044, 4.502, 12.202, 4.337, 6.824, 6.897, 13.652, 4.713, 13.269, 15.043, 1.655, 16.341, 27.69, 8.148, 5.384, 24.095, 23.759, 8.791, 9.035, 26.492, 11.756, 14.081, 0.935, 12.239, 8.956, 28.143, 15.861, 19.405, 28.142, 20.175, 21.097, 13.67, 14.336, 18.04, 8.291, 14.158, 8.83, 9.39, 15.259, 23.068, 10.509, 9.206, 22.553, 4.242, 20.498, 18.15, 19.2, 27.356, 13.549, 24.327, 3.355, 13.329, 8.78, 27.788, 10.222, 19.931, 19.507, 15.645, 26.45, 3.567, 5.295, 16.047, 11.733, 18.176, 18.234, 24.608, 13.5, 19.943, 5.36, 1.772, 12.949, 5.294, 3.497, 6.356, 26.649, 26.313, 13.149, 1.191, 14.097, 1.899, 25.439, 22.327, 4.088, 16.18, 3.317, 25.477, 1.243, 8.767, 21.18, 28.831, 9.097, 3.313, 26.496, 4.772, 23.398, 12.077, 20.576, 7.319, 10.308, 25.843, 19.477, 17.239, 10.268, 22.218, 15.937, 7.04, 14.935, 29.517, 27.852, 13.621, 29.341, 26.597, 16.956, 7.893, 4.571, 28.525, 19.059, 24.93, 20.11, 25.246, 20.315, 6.286, 10.635, 27.638, 12.807, 2.238, 29.058, 8.802, 19.471, 22.952, 22.838, 10.76, 4.018, 2.616, 11.344, 6.506, 4.898, 16.536, 11.682, 15.329, 22.516, 8.012, 22.042, 12.1, 10.071, 1.748, 29.363, 29.483, 20.84, 25.165, 19.568, 18.771, 3.198, 24.502, 11.952, 21.841, 13.999, 3.853, 1.883, 9.042, 19.523, 23.203, 2.179, 13.572, 25.799, 23.721, 0.262, 8.206, 13.086, 0.316, 6.676, 15.264, 3.718, 17.146, 23.361, 29.447, 11.993, 28.817, 29.631, 18.747, 20.62, 19.417, 3.446, 8.544, 13.453, 29.713, 22.618, 25.478, 19.533, 8.271, 24.618, 7.559, 12.068, 12.841, 22.781, 9.783, 25.675, 18.455, 28.562, 18.805, 24.676, 2.303, 23.477, 10.372, 28.46, 18.181, 15.305, 2.23, 28.715, 16.973, 1.147, 13.486, 1.722, 20.759, 25.043, 23.446, 25.121, 17.606, 4.494, 21.031, 17.248, 20.638, 24.537, 19.283, 19.116, 28.566, 22.718, 3.611, 3.159, 10.703, 4.575, 21.704, 4.93, 21.744, 3.41, 15.717, 10.853, 26.157, 17.778, 1.494, 29.477, 19.671, 24.329, 16.462, 27.858, 14.546, 2.194, 2.157, 28.036, 7.259, 15.304, 6.081, 25.447, 10.669, 22.924, 4.418, 26.196, 20.652, 23.432, 14.185, 28.481, 12.79, 18.053, 18.369, 3.881, 5.426, 23.281, 5.641, 25.76, 8.301, 20.93, 7.157, 19.853, 15.52, 26.872, 16.877, 22.564, 11.675, 14.522, 26.993, 29.497, 9.487, 14.056, 12.928, 14.357, 22.15, 5.771, 5.678, 26.001, 0.513, 26.735, 15.791, 1.648, 3.656, 16.884, 24.406, 28.348, 9.263, 29.265, 8.165, 19.095, 24.982, 2.413, 26.752, 2.844, 9.976, 27.01, 9.569, 7.479, 9.348, 15.969, 25.288, 0.632, 23.419, 2.961, 13.354, 15.954, 22.089, 21.923, 6.42, 17.945, 28.591, 20.993, 21.816, 29.699, 22.145, 1.629, 21.146, 4.882, 0.525, 23.079, 21.635, 3.165, 16.042, 17.666, 9.009, 0.602, 28.121, 7.89, 4.315, 14.843, 26.02, 0.879, 13.216, 6.08, 17.466, 9.467, 17.169, 6.738, 12.069, 2.593, 23.778, 10.652, 22.827, 6.158, 13.828, 5.109, 11.634, 2.618, 13.121, 17.25, 23.625, 7.28, 1.864, 7.064, 12.7, 8.652, 17.551, 18.76, 20.218, 22.214, 2.521, 6.731, 24.918, 18.488, 23.916, 28.681, 26.216, 3.788, 4.224, 17.819, 23.838, 0.199, 23.815, 25.487, 7.794, 1.993, 25.558, 27.074, 4.227, 11.376, 1.975, 22.747, 17.267, 14.277, 14.801, 10.28, 11.175, 22.661, 2.004, 12.41, 26.503, 5.7, 17.503, 13.975, 21.118, 23.096, 13.966, 18.656, 7.534, 24.59, 4.939, 17.455, 27.551, 10.131, 23.502, 5.605, 20.632, 23.845, 11.118, 7.01, 8.682, 0.444, 14.506, 10.188, 18.337, 20.658, 12.792, 15.288, 17.765, 17.823, 14.568, 7.793, 12.363, 9.389, 11.484, 23.784, 29.17, 21.884, 13.823, 19.247, 6.675, 8.086, 9.572, 13.378, 17.474, 18.014, 24.381, 15.637, 6.68, 29.87, 0.076, 7.691, 9.595, 6.846, 22.48, 7.249, 23.911, 0.619, 13.062, 25.87]\n",
      "Values for C in dataset: ['c1', 'c2', 'c3']\n",
      "Values for D in dataset: ['d2', 'd3', 'd4', 'd1']\n"
     ]
    }
   ],
   "source": [
    "display(\"FEATURES IN DATASET\", dataset[[\"A\", \"B\", \"C\", \"D\"]].head())\n",
    "\n",
    "display(\"VALUES OF FEATURES\")\n",
    "print(\"Values for A in dataset:\", dataset[\"A\"].unique().tolist())\n",
    "print(\"Values for B in dataset:\", dataset[\"B\"].unique().tolist())\n",
    "print(\"Values for C in dataset:\", dataset[\"C\"].unique().tolist())\n",
    "print(\"Values for D in dataset:\", dataset[\"D\"].unique().tolist())"
   ]
  },
  {
   "cell_type": "markdown",
   "metadata": {},
   "source": [
    "Note that feature B is a continuous variable."
   ]
  },
  {
   "cell_type": "markdown",
   "metadata": {},
   "source": [
    "## 2) Binning file and universe construction\n",
    "\n",
    "CODEX implements combinatorial coverage over a defined universe that describes the input space. Because of the nature of combinatorial testing, CODEX can only operate over discrete values in the data. Therefore, continuous variables in the data must be discretized. Below is an example of a universe that describes an input space to the dataset.\n"
   ]
  },
  {
   "cell_type": "code",
   "execution_count": 7,
   "metadata": {},
   "outputs": [
    {
     "data": {
      "text/plain": [
       "{'features': ['A', 'B', 'C', 'D'],\n",
       " 'levels': [['a1', 'a2'],\n",
       "  ['[0.0,10.0)', '[10,20.0)', '[20.0,30.0]'],\n",
       "  ['c1', 'c2', 'c3'],\n",
       "  ['d1', 'd2', 'd3', 'd4']]}"
      ]
     },
     "metadata": {},
     "output_type": "display_data"
    }
   ],
   "source": [
    "universe, dataset_df, features = codex.define_input_space(codex_input)\n",
    "\n",
    "display(universe)"
   ]
  },
  {
   "cell_type": "markdown",
   "metadata": {},
   "source": [
    "A binning file specifying the order and sizes of the bins can be provided to bin features part of coverage. While this requires knowledge on the part of the user, this allows the user to define bins that are ideally semantically meaningful in order and size. While continuous variables in the **require** a binning scheme specified in the binning file, categorical variables can also **optionally** be referenced in the binning file to specify an order. Otherwise, categorical variables are learned from the data in the order of appearance. \n",
    "\n",
    "With the dataset and a binning file, a universe that describes the input space with all of its features and levels can be defined. Once constructed, this universe can be saved from the experiment results to define the universe for other experiments and runs by passing in the universe filename from the universe folder into the input file."
   ]
  },
  {
   "cell_type": "code",
   "execution_count": 8,
   "metadata": {},
   "outputs": [
    {
     "data": {
      "text/plain": [
       "'BINNING SCHEME'"
      ]
     },
     "metadata": {},
     "output_type": "display_data"
    },
    {
     "name": "stdout",
     "output_type": "stream",
     "text": [
      "A: a1;a2\n",
      "B: [0.0,10.0);[10,20.0);[20.0,30.0]\n",
      "C: c1;c2;c3\n",
      "D: d1;d2;d3;d4\n"
     ]
    },
    {
     "data": {
      "text/plain": [
       "'PROCESSED DATASET'"
      ]
     },
     "metadata": {},
     "output_type": "display_data"
    },
    {
     "data": {
      "text/html": [
       "<div>\n",
       "<style scoped>\n",
       "    .dataframe tbody tr th:only-of-type {\n",
       "        vertical-align: middle;\n",
       "    }\n",
       "\n",
       "    .dataframe tbody tr th {\n",
       "        vertical-align: top;\n",
       "    }\n",
       "\n",
       "    .dataframe thead th {\n",
       "        text-align: right;\n",
       "    }\n",
       "</style>\n",
       "<table border=\"1\" class=\"dataframe\">\n",
       "  <thead>\n",
       "    <tr style=\"text-align: right;\">\n",
       "      <th></th>\n",
       "      <th>id</th>\n",
       "      <th>A</th>\n",
       "      <th>B</th>\n",
       "      <th>C</th>\n",
       "      <th>D</th>\n",
       "    </tr>\n",
       "  </thead>\n",
       "  <tbody>\n",
       "    <tr>\n",
       "      <th>0</th>\n",
       "      <td>0</td>\n",
       "      <td>a2</td>\n",
       "      <td>[10,20.0)</td>\n",
       "      <td>c1</td>\n",
       "      <td>d2</td>\n",
       "    </tr>\n",
       "    <tr>\n",
       "      <th>1</th>\n",
       "      <td>1</td>\n",
       "      <td>a1</td>\n",
       "      <td>[0.0,10.0)</td>\n",
       "      <td>c2</td>\n",
       "      <td>d3</td>\n",
       "    </tr>\n",
       "    <tr>\n",
       "      <th>2</th>\n",
       "      <td>2</td>\n",
       "      <td>a1</td>\n",
       "      <td>[0.0,10.0)</td>\n",
       "      <td>c2</td>\n",
       "      <td>d2</td>\n",
       "    </tr>\n",
       "    <tr>\n",
       "      <th>3</th>\n",
       "      <td>3</td>\n",
       "      <td>a1</td>\n",
       "      <td>[10,20.0)</td>\n",
       "      <td>c2</td>\n",
       "      <td>d4</td>\n",
       "    </tr>\n",
       "    <tr>\n",
       "      <th>4</th>\n",
       "      <td>4</td>\n",
       "      <td>a2</td>\n",
       "      <td>[20.0,30.0]</td>\n",
       "      <td>c1</td>\n",
       "      <td>d2</td>\n",
       "    </tr>\n",
       "  </tbody>\n",
       "</table>\n",
       "</div>"
      ],
      "text/plain": [
       "  id   A            B   C   D\n",
       "0  0  a2    [10,20.0)  c1  d2\n",
       "1  1  a1   [0.0,10.0)  c2  d3\n",
       "2  2  a1   [0.0,10.0)  c2  d2\n",
       "3  3  a1    [10,20.0)  c2  d4\n",
       "4  4  a2  [20.0,30.0]  c1  d2"
      ]
     },
     "metadata": {},
     "output_type": "display_data"
    },
    {
     "data": {
      "text/plain": [
       "'UNIVERSE'"
      ]
     },
     "metadata": {},
     "output_type": "display_data"
    },
    {
     "data": {
      "text/plain": [
       "{'features': ['A', 'B', 'C', 'D'],\n",
       " 'levels': [['a1', 'a2'],\n",
       "  ['[0.0,10.0)', '[10,20.0)', '[20.0,30.0]'],\n",
       "  ['c1', 'c2', 'c3'],\n",
       "  ['d1', 'd2', 'd3', 'd4']]}"
      ]
     },
     "metadata": {},
     "output_type": "display_data"
    }
   ],
   "source": [
    "with open(\"tutorial_materials/binning/bins-abstract.txt\") as f:\n",
    "    display(\"BINNING SCHEME\")\n",
    "    print(f.read())\n",
    "\n",
    "universe, dataset_df_proc, features = codex.define_input_space(codex_input)\n",
    "display(\"PROCESSED DATASET\", dataset_df_proc.head())\n",
    "display(\"UNIVERSE\", universe)"
   ]
  },
  {
   "cell_type": "markdown",
   "metadata": {},
   "source": [
    "To summarize, the preprocessing of the binning file that is required from the user is as follows:\n",
    "- All categorical variables and no ordering: Run CODEX with binning file passed as *null*\n",
    "- Categorical variables that *do not* require ordering and continuous variables that *do* require ordering: Specify bins and order for continuous features and allow CODEX to learn order of categorical variables\n",
    "- Categorical and continuous variables that *both require* ordering and binning: Specify bins and order for continuous variables, and order for cateogircal variables."
   ]
  },
  {
   "cell_type": "markdown",
   "metadata": {},
   "source": [
    "## 3) Input File\n",
    "\n",
    "CODEX modes require an input file to run. These input files contain requirements and information required to run the experiment, including user-defind variables for the experiment and locations of files like split and performance files required for mode-specific analyses.\n",
    "\n",
    "Consider the most complete version of the input file, containing fields for every mode:"
   ]
  },
  {
   "cell_type": "code",
   "execution_count": 9,
   "metadata": {},
   "outputs": [
    {
     "data": {
      "text/plain": [
       "{'mode': 'dataset evaluation',\n",
       " 'codex_directory': './',\n",
       " 'config_id': '__DEMO-dataset_eval_results',\n",
       " 'dataset_name': 'Abstract',\n",
       " 'model_name': '',\n",
       " 'data_directory': 'tutorial_materials/datasets_tabular/',\n",
       " 'dataset_file': 'abstract_native.csv',\n",
       " 'features': ['A', 'B', 'C', 'D'],\n",
       " 'bin_file': 'tutorial_materials/binning/bins-abstract.txt',\n",
       " 'sample_id_column': 'id',\n",
       " 'universe': None,\n",
       " 'use_augmented_universe': False,\n",
       " 'save_universe': False,\n",
       " 'counting_mode': 'label_exclusive',\n",
       " 't': [1, 2, 3, 4],\n",
       " 'split_folder': '',\n",
       " 'split_file': '',\n",
       " 'performance_folder': '',\n",
       " 'performance_file': '',\n",
       " 'metric': '',\n",
       " 'timed_output': False}"
      ]
     },
     "metadata": {},
     "output_type": "display_data"
    }
   ],
   "source": [
    "with open(os.path.join(\"tutorial_materials/input/demo_input-dataset_eval.json\")) as f:\n",
    "    codex_input = json.load(f)\n",
    "    display(codex_input)"
   ]
  },
  {
   "cell_type": "markdown",
   "metadata": {},
   "source": [
    "Give universe field value ^^"
   ]
  },
  {
   "cell_type": "markdown",
   "metadata": {},
   "source": [
    "### Input File Fields: Explanation and Designations\n",
    "\n",
    "**Mode-generic fields**\n",
    "- mode: String designating the type of CODEX experiment to run\n",
    "    - Supported CODEX modes include: ['dataset evaluation', 'dataset split evaluation', 'dataset split comparison', 'performance by interaction', 'model probing', 'balanced test construction']\n",
    "- codex_directory: Directory pathway of where CODEX files reside, including binning files, dataset files, and output directories.\n",
    "- config_id: Unique identifier name for experiment, which creates the directory to which results of a CODEX outputs are saved relative to the codex directory.\n",
    "- timed_output: Boolean whether to tag CODEX directory output with a timestamp at which the experiment was executed.\n",
    "- dataset: Common name of the dataset used in the experiment.\n",
    "- model_name: Common name of the model used for performance results inputs in the experiment.\n",
    "- dataset_directory: Directory pathway relative to the CODEX directory where tabular dataset files reside.\n",
    "- dataset_file: Filename of tabular dataset used in CODEX experiment.\n",
    "- features: List of names of features to compute coverage over as they appear in the dataset.\n",
    "- bin_file: File pathway relative to codex directory of the binning text file.\n",
    "- sample_id_column: Name of the column desginated as the sample ID column as it appears in the dataset.\n",
    "- universe_folder: Directory pathway relative to CODEX directory where universe JSON files reside in.\n",
    "- universe: Filename of a universe JSON file passed in. Pass in null if no pre-defined universe is to be used.\n",
    "- save_universe: Boolean whether to save the universe for this experiment to the universe folder. Also uses the universe filename to define the saved pathway.\n",
    "- use_augmented_universe: Boolean whether to build on the learned universe with extra features/values that do not appear in the predefined universe or the binning scheme.\n",
    "- counting_mode: Boolean defining whether to include the label column in the coverage computations.\n",
    "    - Note: currentnly false, risk of instability if true\n",
    "- t: List of integers $t=1..k$, where k is number of features *** combinations for which to compute ombinatorial coverage over. \n",
    "    - ^ Theory will be introduced at some point earlier\n",
    "    - Pull from detailed README version\n",
    "\n",
    "**Mode-specific fields**\n",
    "- split_folder: Directory pathway relative to CODEX directory where split files reside.\n",
    "    - Dataset split evaluation, dataset split comparison, performance by interaction, model probing modes\n",
    "- split_file: Filename or list of filenames (for dataset split comparison) of split JSON files to be used in CODEX experiments.\n",
    "    - Dataset split evaluation, dataset split comparison, performance by interaction, model probing modes\n",
    "- performance_folder: Directory pathway relative to CODEX directory where performance files reside.\n",
    "    - Dataset split evaluation, dataset split comparison, performance by interaction, model probing modes\n",
    "- performance_file: Filename or list of filenames (for dataset split comparison) of performance JSON files to be used in CODEX experiments.\n",
    "    - Dataset split evaluation, dataset split comparison, performance by interaction, model probing mode.\n",
    "- metric: String or list of strings of the names of performance metrics to compute over as they appear in the performance files.\n",
    "    - Dataset split evaluation, dataset split comparison, performance by interaction, model probing modes\n",
    "- map_functions:\n",
    "- SDCC-direction: List of SDCC set difference directions to plot differential performance for.\n",
    "    - Dataset split evaluation, dataset split comparison\n",
    "\n"
   ]
  },
  {
   "cell_type": "markdown",
   "metadata": {},
   "source": [
    "<explantion of fields>"
   ]
  },
  {
   "cell_type": "markdown",
   "metadata": {},
   "source": [
    "## CODEX OUTPUT\n",
    "\n",
    "<>\n",
    "Folder creation, made from dir+config, etc.\n",
    "Running same input config ID/no timed tag overwrites -> \n",
    "\n",
    "- Mode specific outputs\n",
    "- Mode generic outputs\n",
    "    - Walk through coverage.json"
   ]
  },
  {
   "cell_type": "markdown",
   "metadata": {},
   "source": [
    "## Running CODEX, CODEX output\n",
    "\n",
    "The input file provides all the locations and experiment variables for CODEX to run the specific experiment. When ran, CODEX stores experiment results in a directory named after the unique config ID, where it stores coverage results, figures, and logs for information and debugging."
   ]
  },
  {
   "cell_type": "code",
   "execution_count": 10,
   "metadata": {},
   "outputs": [
    {
     "name": "stdout",
     "output_type": "stream",
     "text": [
      "['coverage.json', 'CC']\n"
     ]
    },
    {
     "data": {
      "text/plain": [
       "<Figure size 432x288 with 0 Axes>"
      ]
     },
     "metadata": {},
     "output_type": "display_data"
    }
   ],
   "source": [
    "results = codex.run(codex_input)\n",
    "output_dir, strengths = codex.define_experiment_variables(codex_input)\n",
    "\n",
    "print(os.listdir(output_dir))"
   ]
  },
  {
   "cell_type": "markdown",
   "metadata": {},
   "source": [
    "If the input file dictates the parameters of the experiment, an output file titled 'coverage.json' includes the results of the experiment.\n",
    "\n",
    "**Mode-generic results:**\n",
    "- universe: Dictionary containing the universe used for computing coverage\n",
    "- mode: Mode of the experiment\n",
    "For each t,\n",
    "- count appearing interactions and total possible interactions: Number of possible and number of total possible interactions\n",
    "- CC: Combinatorial coverage value\n",
    "- ranks: Names of t-way combinations in order\n",
    "- combination counts: List of lists containing the number of interaction appearances for each combination\n",
    "- missing interactions: List of lists of combinations and interactions that should be, but are not present in the data\n",
    "\n",
    "**Mode-specific results:**\n",
    "- SDCC: Set difference combinatorial coverage value\n",
    "    - Dataset split evaluation\n",
    "- performance: Contains performance metrics for each interaction by metrics\n",
    "    - performance by interaction mode\n",
    "- human readable performance: Contains performance metrics for each interaction by metrics\n",
    "    - performance by interaction mode"
   ]
  },
  {
   "cell_type": "code",
   "execution_count": 11,
   "metadata": {},
   "outputs": [
    {
     "data": {
      "text/plain": [
       "{'universe': {'features': ['A', 'B', 'C', 'D'],\n",
       "  'levels': [['a1', 'a2'],\n",
       "   ['[0.0,10.0)', '[10,20.0)', '[20.0,30.0]'],\n",
       "   ['c1', 'c2', 'c3'],\n",
       "   ['d1', 'd2', 'd3', 'd4']]},\n",
       " 1: {'count appearing interactions': 12,\n",
       "  'total possible interactions': 12,\n",
       "  'CC': 1.0,\n",
       "  'ranks': ['A', 'B', 'C', 'D'],\n",
       "  'combination counts': [[504, 496],\n",
       "   [329, 350, 321],\n",
       "   [391, 287, 322],\n",
       "   [243, 232, 255, 270]],\n",
       "  'missing interactions': []},\n",
       " 2: {'count appearing interactions': 53,\n",
       "  'total possible interactions': 53,\n",
       "  'CC': 1.0,\n",
       "  'ranks': ['A*B', 'A*C', 'B*C', 'A*D', 'B*D', 'C*D'],\n",
       "  'combination counts': [[157, 172, 180, 170, 167, 154],\n",
       "   [180, 211, 149, 138, 175, 147],\n",
       "   [124, 136, 131, 107, 100, 80, 98, 114, 110],\n",
       "   [129, 114, 111, 121, 135, 120, 129, 141],\n",
       "   [76, 82, 85, 78, 74, 80, 83, 94, 78, 92, 100, 78],\n",
       "   [101, 70, 72, 93, 67, 72, 100, 75, 80, 97, 75, 98]],\n",
       "  'missing interactions': []},\n",
       " 3: {'count appearing interactions': 102,\n",
       "  'total possible interactions': 102,\n",
       "  'CC': 1.0,\n",
       "  'ranks': ['A*B*C', 'A*B*D', 'A*C*D', 'B*C*D'],\n",
       "  'combination counts': [[56,\n",
       "    68,\n",
       "    55,\n",
       "    81,\n",
       "    69,\n",
       "    62,\n",
       "    56,\n",
       "    51,\n",
       "    53,\n",
       "    47,\n",
       "    40,\n",
       "    40,\n",
       "    45,\n",
       "    53,\n",
       "    72,\n",
       "    42,\n",
       "    58,\n",
       "    52],\n",
       "   [38,\n",
       "    38,\n",
       "    44,\n",
       "    38,\n",
       "    47,\n",
       "    38,\n",
       "    38,\n",
       "    40,\n",
       "    36,\n",
       "    38,\n",
       "    37,\n",
       "    43,\n",
       "    48,\n",
       "    35,\n",
       "    49,\n",
       "    45,\n",
       "    38,\n",
       "    40,\n",
       "    33,\n",
       "    59,\n",
       "    51,\n",
       "    49,\n",
       "    45,\n",
       "    33],\n",
       "   [52,\n",
       "    49,\n",
       "    33,\n",
       "    37,\n",
       "    44,\n",
       "    28,\n",
       "    33,\n",
       "    60,\n",
       "    33,\n",
       "    34,\n",
       "    45,\n",
       "    27,\n",
       "    51,\n",
       "    49,\n",
       "    42,\n",
       "    33,\n",
       "    42,\n",
       "    38,\n",
       "    44,\n",
       "    53,\n",
       "    41,\n",
       "    34,\n",
       "    44,\n",
       "    54],\n",
       "   [24,\n",
       "    36,\n",
       "    41,\n",
       "    25,\n",
       "    22,\n",
       "    23,\n",
       "    27,\n",
       "    24,\n",
       "    21,\n",
       "    37,\n",
       "    28,\n",
       "    28,\n",
       "    26,\n",
       "    23,\n",
       "    18,\n",
       "    15,\n",
       "    23,\n",
       "    34,\n",
       "    29,\n",
       "    37,\n",
       "    34,\n",
       "    30,\n",
       "    23,\n",
       "    22,\n",
       "    24,\n",
       "    34,\n",
       "    22,\n",
       "    34,\n",
       "    35,\n",
       "    28,\n",
       "    26,\n",
       "    32,\n",
       "    17,\n",
       "    32,\n",
       "    33,\n",
       "    33]],\n",
       "  'missing interactions': []},\n",
       " 4: {'count appearing interactions': 72,\n",
       "  'total possible interactions': 72,\n",
       "  'CC': 1.0,\n",
       "  'ranks': ['A*B*C*D'],\n",
       "  'combination counts': [[13,\n",
       "    11,\n",
       "    15,\n",
       "    21,\n",
       "    24,\n",
       "    17,\n",
       "    12,\n",
       "    13,\n",
       "    11,\n",
       "    11,\n",
       "    10,\n",
       "    13,\n",
       "    13,\n",
       "    14,\n",
       "    18,\n",
       "    6,\n",
       "    13,\n",
       "    8,\n",
       "    15,\n",
       "    22,\n",
       "    8,\n",
       "    20,\n",
       "    10,\n",
       "    18,\n",
       "    16,\n",
       "    10,\n",
       "    10,\n",
       "    13,\n",
       "    7,\n",
       "    11,\n",
       "    7,\n",
       "    8,\n",
       "    18,\n",
       "    5,\n",
       "    20,\n",
       "    14,\n",
       "    17,\n",
       "    12,\n",
       "    16,\n",
       "    21,\n",
       "    18,\n",
       "    16,\n",
       "    17,\n",
       "    13,\n",
       "    13,\n",
       "    10,\n",
       "    12,\n",
       "    10,\n",
       "    14,\n",
       "    10,\n",
       "    20,\n",
       "    14,\n",
       "    8,\n",
       "    14,\n",
       "    11,\n",
       "    23,\n",
       "    16,\n",
       "    19,\n",
       "    17,\n",
       "    11,\n",
       "    11,\n",
       "    15,\n",
       "    19,\n",
       "    13,\n",
       "    11,\n",
       "    6,\n",
       "    11,\n",
       "    21,\n",
       "    16,\n",
       "    17,\n",
       "    17,\n",
       "    16]],\n",
       "  'missing interactions': []},\n",
       " 'mode': 'dataset evaluation'}"
      ]
     },
     "metadata": {},
     "output_type": "display_data"
    }
   ],
   "source": [
    "# codex.output.output_json_readable(results, print_json=True)\n",
    "display(results)"
   ]
  },
  {
   "cell_type": "code",
   "execution_count": null,
   "metadata": {},
   "outputs": [],
   "source": []
  }
 ],
 "metadata": {
  "kernelspec": {
   "display_name": "Python 3",
   "language": "python",
   "name": "python3"
  },
  "language_info": {
   "codemirror_mode": {
    "name": "ipython",
    "version": 3
   },
   "file_extension": ".py",
   "mimetype": "text/x-python",
   "name": "python",
   "nbconvert_exporter": "python",
   "pygments_lexer": "ipython3",
   "version": "3.10.12"
  }
 },
 "nbformat": 4,
 "nbformat_minor": 2
}
